{
 "cells": [
  {
   "cell_type": "code",
   "execution_count": 1,
   "id": "f949d124",
   "metadata": {},
   "outputs": [],
   "source": [
    "import pandas as pd\n",
    "import seaborn as sns"
   ]
  },
  {
   "cell_type": "code",
   "execution_count": 2,
   "id": "5b911db5",
   "metadata": {},
   "outputs": [
    {
     "data": {
      "text/html": [
       "<div>\n",
       "<style scoped>\n",
       "    .dataframe tbody tr th:only-of-type {\n",
       "        vertical-align: middle;\n",
       "    }\n",
       "\n",
       "    .dataframe tbody tr th {\n",
       "        vertical-align: top;\n",
       "    }\n",
       "\n",
       "    .dataframe thead th {\n",
       "        text-align: right;\n",
       "    }\n",
       "</style>\n",
       "<table border=\"1\" class=\"dataframe\">\n",
       "  <thead>\n",
       "    <tr style=\"text-align: right;\">\n",
       "      <th></th>\n",
       "      <th>Unnamed: 0</th>\n",
       "      <th>customer_email</th>\n",
       "      <th>net_revenue</th>\n",
       "      <th>year</th>\n",
       "    </tr>\n",
       "  </thead>\n",
       "  <tbody>\n",
       "    <tr>\n",
       "      <th>0</th>\n",
       "      <td>0</td>\n",
       "      <td>nhknapwsbx@gmail.com</td>\n",
       "      <td>249.92</td>\n",
       "      <td>2015</td>\n",
       "    </tr>\n",
       "    <tr>\n",
       "      <th>1</th>\n",
       "      <td>1</td>\n",
       "      <td>joiuzbvcpn@gmail.com</td>\n",
       "      <td>87.61</td>\n",
       "      <td>2015</td>\n",
       "    </tr>\n",
       "    <tr>\n",
       "      <th>2</th>\n",
       "      <td>2</td>\n",
       "      <td>ukkjctepxt@gmail.com</td>\n",
       "      <td>168.38</td>\n",
       "      <td>2015</td>\n",
       "    </tr>\n",
       "    <tr>\n",
       "      <th>3</th>\n",
       "      <td>3</td>\n",
       "      <td>gykatilzrt@gmail.com</td>\n",
       "      <td>62.40</td>\n",
       "      <td>2015</td>\n",
       "    </tr>\n",
       "    <tr>\n",
       "      <th>4</th>\n",
       "      <td>4</td>\n",
       "      <td>mmsgsrtxah@gmail.com</td>\n",
       "      <td>43.08</td>\n",
       "      <td>2015</td>\n",
       "    </tr>\n",
       "    <tr>\n",
       "      <th>...</th>\n",
       "      <td>...</td>\n",
       "      <td>...</td>\n",
       "      <td>...</td>\n",
       "      <td>...</td>\n",
       "    </tr>\n",
       "    <tr>\n",
       "      <th>685922</th>\n",
       "      <td>685922</td>\n",
       "      <td>qzqttwiftu@gmail.com</td>\n",
       "      <td>184.58</td>\n",
       "      <td>2017</td>\n",
       "    </tr>\n",
       "    <tr>\n",
       "      <th>685923</th>\n",
       "      <td>685923</td>\n",
       "      <td>pjodiifjop@gmail.com</td>\n",
       "      <td>133.03</td>\n",
       "      <td>2017</td>\n",
       "    </tr>\n",
       "    <tr>\n",
       "      <th>685924</th>\n",
       "      <td>685924</td>\n",
       "      <td>appaplmgko@gmail.com</td>\n",
       "      <td>200.98</td>\n",
       "      <td>2017</td>\n",
       "    </tr>\n",
       "    <tr>\n",
       "      <th>685925</th>\n",
       "      <td>685925</td>\n",
       "      <td>wvkpmwsgck@gmail.com</td>\n",
       "      <td>235.35</td>\n",
       "      <td>2017</td>\n",
       "    </tr>\n",
       "    <tr>\n",
       "      <th>685926</th>\n",
       "      <td>685926</td>\n",
       "      <td>aregboumbw@gmail.com</td>\n",
       "      <td>208.43</td>\n",
       "      <td>2017</td>\n",
       "    </tr>\n",
       "  </tbody>\n",
       "</table>\n",
       "<p>685927 rows × 4 columns</p>\n",
       "</div>"
      ],
      "text/plain": [
       "        Unnamed: 0         customer_email  net_revenue  year\n",
       "0                0   nhknapwsbx@gmail.com       249.92  2015\n",
       "1                1   joiuzbvcpn@gmail.com        87.61  2015\n",
       "2                2   ukkjctepxt@gmail.com       168.38  2015\n",
       "3                3   gykatilzrt@gmail.com        62.40  2015\n",
       "4                4   mmsgsrtxah@gmail.com        43.08  2015\n",
       "...            ...                    ...          ...   ...\n",
       "685922      685922   qzqttwiftu@gmail.com       184.58  2017\n",
       "685923      685923   pjodiifjop@gmail.com       133.03  2017\n",
       "685924      685924   appaplmgko@gmail.com       200.98  2017\n",
       "685925      685925   wvkpmwsgck@gmail.com       235.35  2017\n",
       "685926      685926   aregboumbw@gmail.com       208.43  2017\n",
       "\n",
       "[685927 rows x 4 columns]"
      ]
     },
     "execution_count": 2,
     "metadata": {},
     "output_type": "execute_result"
    }
   ],
   "source": [
    "data = pd.read_csv('casestudy.csv')\n",
    "data"
   ]
  },
  {
   "cell_type": "code",
   "execution_count": 34,
   "id": "e36687f2",
   "metadata": {},
   "outputs": [
    {
     "name": "stdout",
     "output_type": "stream",
     "text": [
      "--------------------\n",
      "Total revenue of 2015:,29036749.19\n",
      "--------------------\n",
      "--------------------\n",
      "Total revenue of 2016:,25730943.59\n",
      "Total customers current year 2016:,25730943.59\n",
      "Total customers previous year 2015:,29036749.19\n",
      "New customers year 2016: 145062\n",
      "Lost customers year 2016: 171710\n",
      "Revenue from new customers for year 2016              20122363.27\n",
      "Revenue from lost customers for year 2016              21671259.47\n",
      "Existing growth for year 2016:              -3305805.60\n",
      "--------------------\n",
      "--------------------\n",
      "Total revenue of 2017:,31417495.03\n",
      "Total customers current year 2017:,31417495.03\n",
      "Total customers previous year 2016:,25730943.59\n",
      "New customers year 2017: 229028\n",
      "Lost customers year 2017: 183687\n",
      "Revenue from new customers for year 2017              28871866.41\n",
      "Revenue from lost customers for year 2017              29802549.78\n",
      "Existing growth for year 2017:              5686551.44\n",
      "--------------------\n"
     ]
    }
   ],
   "source": [
    "for year in [2015,2016,2017]:\n",
    "    print(20*'-')\n",
    "    print(f\"Total revenue of {year}:{data[data['year']==year]['net_revenue'].sum():.2f}\")\n",
    "    if year!=2015:\n",
    "        print(f\"Total customers current year {year}:{data[data['year']==year]['net_revenue'].sum():.2f}\")\n",
    "        print(f\"Total customers previous year {year-1}:{data[data['year']==year-1]['net_revenue'].sum():.2f}\")\n",
    "        \n",
    "        prev = data[data['year']==year-1]['customer_email']\n",
    "        current = data[data['year']==year]['customer_email']\n",
    "        new_customers = len(list(set(current).difference(prev)))\n",
    "        new_ids = list(set(current).difference(prev))\n",
    "        print(f'New customers year {year}: {new_customers}')\n",
    "        lost_customers = len(list(set(prev).difference(current)))\n",
    "        lost_ids = list(set(prev).difference(current))\n",
    "        print(f'Lost customers year {year}: {lost_customers}')\n",
    "        \n",
    "        print(f\"Revenue from new customers for year {year}\\\n",
    "              {data[data['customer_email'].isin(new_ids)]['net_revenue'].sum():.2f}\")\n",
    "        print(f\"Revenue from lost customers for year {year}\\\n",
    "              {data[data['customer_email'].isin(lost_ids)]['net_revenue'].sum():.2f}\")\n",
    "        print(f\"Existing growth for year {year}:\\\n",
    "              {data[data['year']==year]['net_revenue'].sum()-data[data['year']==year-1]['net_revenue'].sum():.2f}\")\n",
    "    print(20*'-')\n",
    "    "
   ]
  },
  {
   "cell_type": "code",
   "execution_count": 40,
   "id": "5ff19d18",
   "metadata": {},
   "outputs": [
    {
     "data": {
      "image/png": "[encoded data removed]",
      "text/plain": [
       "<Figure size 720x720 with 1 Axes>"
      ]
     },
     "metadata": {
      "needs_background": "light"
     },
     "output_type": "display_data"
    }
   ],
   "source": [
    "import  matplotlib.pyplot as plt\n",
    "\n",
    "total_revenue = data.groupby(by='year')[['year','net_revenue']].sum()\n",
    "plt.figure(figsize=(10,10))\n",
    "plt.title('Total revenue each year')\n",
    "sns.barplot(x='year',y='net_revenue',data=total_revenue)\n",
    "plt.show()"
   ]
  },
  {
   "cell_type": "code",
   "execution_count": 42,
   "id": "e4170f8b",
   "metadata": {},
   "outputs": [
    {
     "data": {
      "text/plain": [
       "gmail.com     644356\n",
       "gmail.com      41571\n",
       "Name: mail, dtype: int64"
      ]
     },
     "execution_count": 42,
     "metadata": {},
     "output_type": "execute_result"
    }
   ],
   "source": [
    "# Check what mail customers use\n",
    "data['mail'] = data['customer_email'].apply(lambda x:x.split('@')[1])\n",
    "data['mail'].value_counts()"
   ]
  }
 ],
 "metadata": {
  "kernelspec": {
   "display_name": "Python 3",
   "language": "python",
   "name": "python3"
  },
  "language_info": {
   "codemirror_mode": {
    "name": "ipython",
    "version": 3
   },
   "file_extension": ".py",
   "mimetype": "text/x-python",
   "name": "python",
   "nbconvert_exporter": "python",
   "pygments_lexer": "ipython3",
   "version": "3.9.5"
  }
 },
 "nbformat": 4,
 "nbformat_minor": 5
}
